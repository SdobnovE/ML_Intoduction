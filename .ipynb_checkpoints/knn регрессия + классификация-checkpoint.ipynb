{
 "cells": [
  {
   "cell_type": "code",
   "execution_count": 360,
   "metadata": {},
   "outputs": [],
   "source": [
    "import numpy as np\n",
    "import matplotlib.pyplot as plt\n",
    "import scipy\n",
    "import sklearn\n",
    "import seaborn as sns\n",
    "import matplotlib.pyplot as plt\n",
    "\n",
    "from sklearn import datasets\n",
    "from sklearn.base import ClassifierMixin\n",
    "\n",
    "from sklearn.neighbors.base import NeighborsBase, KNeighborsMixin, SupervisedIntegerMixin \n",
    "from sklearn.model_selection import train_test_split\n",
    "from sklearn.neighbors import KNeighborsClassifier, KNeighborsRegressor\n",
    "\n",
    "from sklearn.neighbors import KDTree\n",
    "\n",
    "from sklearn.metrics import r2_score, f1_score\n",
    "from sklearn.preprocessing import StandardScaler\n",
    "from sklearn.model_selection import KFold"
   ]
  },
  {
   "cell_type": "code",
   "execution_count": 361,
   "metadata": {},
   "outputs": [],
   "source": [
    "class MyKNeighborsClassifier(NeighborsBase, KNeighborsMixin, SupervisedIntegerMixin, ClassifierMixin):\n",
    "    def __init__(self, n_neighbors, metric=\"euclidean\"):\n",
    "        self.n_neighbors = n_neighbors\n",
    "        self.metric = metric\n",
    "        \n",
    "    \n",
    "    def fit(self, X, y):\n",
    "        self.X_train = np.array(X)\n",
    "        self.y_train = np.array(y)\n",
    "        self.unique = np.unique(y).shape[0]\n",
    "        \n",
    "    \n",
    "    def predict(self, X):\n",
    "        X = np.array(X)\n",
    "        dist = metrics.pairwise_distances(X, self.X_train, metric=self.metric)\n",
    "        n_minimal_neighbors = self.y_train[np.argpartition(dist, self.n_neighbors)[:,0:self.n_neighbors]]\n",
    "\n",
    "        y_res = []\n",
    "        for i in range(X.shape[0]):\n",
    "            neigh_and_count_in_str = np.unique(n_minimal_neighbors[i],return_counts=True)\n",
    "            y_res.append(neigh_and_count_in_str[0][neigh_and_count_in_str[1].argmax()])\n",
    "\n",
    "\n",
    "        y_res = np.array(y_res)\n",
    "        return y_res\n",
    "    \n",
    "    def predict_proba(self, X):\n",
    "        dist = metrics.pairwise_distances(X, self.X_train)\n",
    "        n_minimal_neighbors = self.y_train[np.argpartition(dist, self.n_neighbors)[:,0:self.n_neighbors]]\n",
    "        prob_res = np.array([np.bincount(n_minimal_neighbors[i], \n",
    "                                         minlength=self.unique) for i in range(X.shape[0])])\n",
    "        return prob_res / self.n_neighbors\n",
    "        \n",
    "    \n",
    "    def score(self, X, y):\n",
    "        X = np.array(X)\n",
    "        y = np.array(y)\n",
    "        return (np.isclose(self.predict(X), y)).sum() / y.shape[0]"
   ]
  },
  {
   "cell_type": "code",
   "execution_count": 362,
   "metadata": {},
   "outputs": [],
   "source": [
    "class MyKNeighborsRegressor(NeighborsBase, KNeighborsMixin, SupervisedIntegerMixin, ClassifierMixin):\n",
    "    def __init__(self, n_neighbors, metric=\"euclidean\"):\n",
    "        self.n_neighbors = n_neighbors\n",
    "        self.metric = metric\n",
    "        \n",
    "    \n",
    "    def fit(self, X, y):\n",
    "        self.X_train = np.array(X)\n",
    "        self.y_train = np.array(y)\n",
    "        self.unique = np.unique(y).shape[0]\n",
    "        \n",
    "    \n",
    "    def predict(self, X):\n",
    "        X = np.array(X)\n",
    "        dist = metrics.pairwise_distances(X, self.X_train, metric=self.metric)\n",
    "        n_minimal_neighbors = self.y_train[np.argpartition(dist, self.n_neighbors)[:,0:self.n_neighbors]]\n",
    "        \n",
    "        y_res = []\n",
    "        for i in range(X.shape[0]):\n",
    "            neigh_in_str = n_minimal_neighbors[i]\n",
    "            y_res.append(neigh_in_str.mean())\n",
    "        y_res = np.array(y_res)\n",
    "        return y_res\n",
    "        \n",
    "        \n",
    "    \n",
    "    def predict_proba(self, X):\n",
    "        dist = metrics.pairwise_distances(X, self.X_train)\n",
    "        n_minimal_neighbors = self.y_train[np.argpartition(dist, self.n_neighbors)[:,0:self.n_neighbors]]\n",
    "        prob_res = np.array([np.bincount(n_minimal_neighbors[i], \n",
    "                                         minlength=self.unique) for i in range(X.shape[0])])\n",
    "        return prob_res / self.n_neighbors\n",
    "        \n",
    "    \n",
    "    def score(self, X, y):\n",
    "        X = np.array(X)\n",
    "        y = np.array(y)\n",
    "        return (np.isclose(self.predict(X), y)).sum() / y.shape[0]"
   ]
  },
  {
   "cell_type": "markdown",
   "metadata": {},
   "source": [
    "# KNN-классификация, датасет ирисов"
   ]
  },
  {
   "cell_type": "code",
   "execution_count": 363,
   "metadata": {},
   "outputs": [],
   "source": [
    "data = datasets.load_iris()"
   ]
  },
  {
   "cell_type": "code",
   "execution_count": 364,
   "metadata": {},
   "outputs": [],
   "source": [
    "X = data[\"data\"]\n",
    "X = StandardScaler().fit_transform(X)\n",
    "y = data[\"target\"]"
   ]
  },
  {
   "cell_type": "code",
   "execution_count": 365,
   "metadata": {},
   "outputs": [
    {
     "name": "stdout",
     "output_type": "stream",
     "text": [
      "1.0\n",
      "0.9210526315789473\n",
      "0.918918918918919\n",
      "0.7567567567567568\n",
      "CPU times: user 9.62 ms, sys: 42 µs, total: 9.66 ms\n",
      "Wall time: 8.94 ms\n"
     ]
    }
   ],
   "source": [
    "%%time\n",
    "y_ans = []\n",
    "for train_index, test_index in KFold(n_splits=4).split(X):\n",
    "    mdl = MyKNeighborsClassifier(3)\n",
    "    X_train = X[train_index,:]\n",
    "    y_train = y[train_index]\n",
    "\n",
    "    X_test = X[test_index,:]\n",
    "    y_test = y[test_index]\n",
    "    \n",
    "    mdl.fit(X_train, y_train)\n",
    "    print(mdl.score(X_test, y_test))\n",
    "    y_ans += list(mdl.predict(X_test))\n",
    "    "
   ]
  },
  {
   "cell_type": "code",
   "execution_count": 366,
   "metadata": {},
   "outputs": [
    {
     "name": "stdout",
     "output_type": "stream",
     "text": [
      "1.0\n",
      "0.9210526315789473\n",
      "0.918918918918919\n",
      "0.7567567567567568\n",
      "CPU times: user 16.6 ms, sys: 15 µs, total: 16.6 ms\n",
      "Wall time: 16.9 ms\n"
     ]
    }
   ],
   "source": [
    "%%time\n",
    "y_ans = []\n",
    "for train_index, test_index in KFold(n_splits=4).split(X):\n",
    "    mdl = KNeighborsClassifier(3)\n",
    "    X_train = X[train_index,:]\n",
    "    y_train = y[train_index]\n",
    "\n",
    "    X_test = X[test_index,:]\n",
    "    y_test = y[test_index]\n",
    "    \n",
    "    mdl.fit(X_train, y_train)\n",
    "    print(mdl.score(X_test, y_test))\n",
    "    y_ans += list(mdl.predict(X_test))\n",
    "    "
   ]
  },
  {
   "cell_type": "markdown",
   "metadata": {},
   "source": [
    "### Видим одинаковые точности"
   ]
  },
  {
   "cell_type": "markdown",
   "metadata": {},
   "source": [
    "# KNN-регрессия, датасет Бостон\n"
   ]
  },
  {
   "cell_type": "code",
   "execution_count": 367,
   "metadata": {},
   "outputs": [],
   "source": [
    "data = datasets.load_boston()"
   ]
  },
  {
   "cell_type": "code",
   "execution_count": null,
   "metadata": {},
   "outputs": [],
   "source": []
  },
  {
   "cell_type": "code",
   "execution_count": 368,
   "metadata": {},
   "outputs": [],
   "source": [
    "X = data[\"data\"]\n",
    "X = StandardScaler().fit_transform(X)\n",
    "y = data[\"target\"]"
   ]
  },
  {
   "cell_type": "code",
   "execution_count": null,
   "metadata": {},
   "outputs": [],
   "source": []
  },
  {
   "cell_type": "code",
   "execution_count": 369,
   "metadata": {},
   "outputs": [
    {
     "name": "stdout",
     "output_type": "stream",
     "text": [
      "CPU times: user 72.3 ms, sys: 3.92 ms, total: 76.2 ms\n",
      "Wall time: 24.5 ms\n"
     ]
    }
   ],
   "source": [
    "%%time\n",
    "y_ans = []\n",
    "for train_index, test_index in KFold(n_splits=10).split(X):\n",
    "    mdl = MyKNeighborsRegressor(10)\n",
    "    X_train = X[train_index,:]\n",
    "    y_train = y[train_index]\n",
    "\n",
    "    X_test = X[test_index,:]\n",
    "    y_test = y[test_index]\n",
    "    \n",
    "    mdl.fit(X_train, y_train)\n",
    "    y_ans += list(mdl.predict(X_test))\n",
    "    "
   ]
  },
  {
   "cell_type": "code",
   "execution_count": 370,
   "metadata": {},
   "outputs": [
    {
     "data": {
      "text/plain": [
       "0.6544193040015016"
      ]
     },
     "execution_count": 370,
     "metadata": {},
     "output_type": "execute_result"
    }
   ],
   "source": [
    "r2_score(y, y_ans)"
   ]
  },
  {
   "cell_type": "code",
   "execution_count": 371,
   "metadata": {},
   "outputs": [
    {
     "name": "stdout",
     "output_type": "stream",
     "text": [
      "CPU times: user 98.8 ms, sys: 3.87 ms, total: 103 ms\n",
      "Wall time: 39.5 ms\n"
     ]
    }
   ],
   "source": [
    "%%time\n",
    "y_ans = []\n",
    "for train_index, test_index in KFold(n_splits=10).split(X):\n",
    "    mdl = KNeighborsRegressor(10, algorithm=\"brute\", metric=\"euclidean\")\n",
    "    X_train = X[train_index,:]\n",
    "    y_train = y[train_index]\n",
    "\n",
    "    X_test = X[test_index,:]\n",
    "    y_test = y[test_index]\n",
    "    \n",
    "    mdl.fit(X_train, y_train)\n",
    "    y_ans += list(mdl.predict(X_test))\n",
    "    "
   ]
  },
  {
   "cell_type": "code",
   "execution_count": 372,
   "metadata": {},
   "outputs": [
    {
     "data": {
      "text/plain": [
       "0.6544193040015016"
      ]
     },
     "execution_count": 372,
     "metadata": {},
     "output_type": "execute_result"
    }
   ],
   "source": [
    "r2_score(y, y_ans)"
   ]
  },
  {
   "cell_type": "markdown",
   "metadata": {},
   "source": [
    "### Видим одинаковые точности"
   ]
  },
  {
   "cell_type": "code",
   "execution_count": null,
   "metadata": {},
   "outputs": [],
   "source": []
  }
 ],
 "metadata": {
  "kernelspec": {
   "display_name": "Python 3",
   "language": "python",
   "name": "python3"
  },
  "language_info": {
   "codemirror_mode": {
    "name": "ipython",
    "version": 3
   },
   "file_extension": ".py",
   "mimetype": "text/x-python",
   "name": "python",
   "nbconvert_exporter": "python",
   "pygments_lexer": "ipython3",
   "version": "3.7.6"
  }
 },
 "nbformat": 4,
 "nbformat_minor": 4
}
