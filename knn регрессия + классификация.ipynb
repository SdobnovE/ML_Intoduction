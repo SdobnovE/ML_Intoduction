{
 "cells": [
  {
   "cell_type": "code",
   "execution_count": 25,
   "metadata": {},
   "outputs": [],
   "source": [
    "import numpy as np\n",
    "import matplotlib.pyplot as plt\n",
    "import scipy\n",
    "import sklearn\n",
    "import seaborn as sns\n",
    "import matplotlib.pyplot as plt\n",
    "\n",
    "from sklearn import datasets\n",
    "from sklearn.base import ClassifierMixin\n",
    "\n",
    "from sklearn.neighbors.base import NeighborsBase, KNeighborsMixin, SupervisedIntegerMixin \n",
    "from sklearn.model_selection import train_test_split\n",
    "from sklearn.neighbors import KNeighborsClassifier, KNeighborsRegressor\n",
    "\n",
    "from sklearn.neighbors import KDTree\n",
    "\n",
    "from sklearn.metrics import r2_score, f1_score\n",
    "from sklearn import metrics\n",
    "from sklearn.preprocessing import StandardScaler\n",
    "from sklearn.model_selection import KFold"
   ]
  },
  {
   "cell_type": "code",
   "execution_count": 26,
   "metadata": {},
   "outputs": [],
   "source": [
    "class MyKNeighborsClassifier(NeighborsBase, KNeighborsMixin, SupervisedIntegerMixin, ClassifierMixin):\n",
    "    def __init__(self, n_neighbors, metric=\"euclidean\"):\n",
    "        self.n_neighbors = n_neighbors\n",
    "        self.metric = metric\n",
    "        \n",
    "    \n",
    "    def fit(self, X, y):\n",
    "        self.X_train = np.array(X)\n",
    "        self.y_train = np.array(y)\n",
    "        self.unique = np.unique(y).shape[0]\n",
    "        \n",
    "    \n",
    "    def predict(self, X):\n",
    "        X = np.array(X)\n",
    "        dist = metrics.pairwise_distances(X, self.X_train, metric=self.metric)\n",
    "        n_minimal_neighbors = self.y_train[np.argpartition(dist, self.n_neighbors)[:,0:self.n_neighbors]]\n",
    "\n",
    "        y_res = []\n",
    "        for i in range(X.shape[0]):\n",
    "            neigh_and_count_in_str = np.unique(n_minimal_neighbors[i],return_counts=True)\n",
    "            y_res.append(neigh_and_count_in_str[0][neigh_and_count_in_str[1].argmax()])\n",
    "\n",
    "\n",
    "        y_res = np.array(y_res)\n",
    "        return y_res\n",
    "    \n",
    "    def predict_proba(self, X):\n",
    "        dist = metrics.pairwise_distances(X, self.X_train)\n",
    "        n_minimal_neighbors = self.y_train[np.argpartition(dist, self.n_neighbors)[:,0:self.n_neighbors]]\n",
    "        prob_res = np.array([np.bincount(n_minimal_neighbors[i], \n",
    "                                         minlength=self.unique) for i in range(X.shape[0])])\n",
    "        return prob_res / self.n_neighbors\n",
    "        \n",
    "    \n",
    "    def score(self, X, y):\n",
    "        X = np.array(X)\n",
    "        y = np.array(y)\n",
    "        return (np.isclose(self.predict(X), y)).sum() / y.shape[0]"
   ]
  },
  {
   "cell_type": "code",
   "execution_count": 27,
   "metadata": {},
   "outputs": [],
   "source": [
    "class MyKNeighborsRegressor(NeighborsBase, KNeighborsMixin, SupervisedIntegerMixin, ClassifierMixin):\n",
    "    def __init__(self, n_neighbors, metric=\"euclidean\"):\n",
    "        self.n_neighbors = n_neighbors\n",
    "        self.metric = metric\n",
    "        \n",
    "    \n",
    "    def fit(self, X, y):\n",
    "        self.X_train = np.array(X)\n",
    "        self.y_train = np.array(y)\n",
    "        self.unique = np.unique(y).shape[0]\n",
    "        \n",
    "    \n",
    "    def predict(self, X):\n",
    "        X = np.array(X)\n",
    "        dist = metrics.pairwise_distances(X, self.X_train, metric=self.metric)\n",
    "        n_minimal_neighbors = self.y_train[np.argpartition(dist, self.n_neighbors)[:,0:self.n_neighbors]]\n",
    "        \n",
    "        y_res = []\n",
    "        for i in range(X.shape[0]):\n",
    "            neigh_in_str = n_minimal_neighbors[i]\n",
    "            y_res.append(neigh_in_str.mean())\n",
    "        y_res = np.array(y_res)\n",
    "        return y_res\n",
    "        \n",
    "        \n",
    "    \n",
    "    def predict_proba(self, X):\n",
    "        dist = metrics.pairwise_distances(X, self.X_train)\n",
    "        n_minimal_neighbors = self.y_train[np.argpartition(dist, self.n_neighbors)[:,0:self.n_neighbors]]\n",
    "        prob_res = np.array([np.bincount(n_minimal_neighbors[i], \n",
    "                                         minlength=self.unique) for i in range(X.shape[0])])\n",
    "        return prob_res / self.n_neighbors\n",
    "        \n",
    "    \n",
    "    def score(self, X, y):\n",
    "        X = np.array(X)\n",
    "        y = np.array(y)\n",
    "        return (np.isclose(self.predict(X), y)).sum() / y.shape[0]"
   ]
  },
  {
   "cell_type": "markdown",
   "metadata": {},
   "source": [
    "# KNN-классификация, датасет ирисов"
   ]
  },
  {
   "cell_type": "code",
   "execution_count": 28,
   "metadata": {},
   "outputs": [],
   "source": [
    "data = datasets.load_iris()"
   ]
  },
  {
   "cell_type": "code",
   "execution_count": 29,
   "metadata": {},
   "outputs": [],
   "source": [
    "X = data[\"data\"]\n",
    "X = StandardScaler().fit_transform(X)\n",
    "y = data[\"target\"]"
   ]
  },
  {
   "cell_type": "code",
   "execution_count": 32,
   "metadata": {},
   "outputs": [
    {
     "data": {
      "text/plain": [
       "(150, 4)"
      ]
     },
     "execution_count": 32,
     "metadata": {},
     "output_type": "execute_result"
    }
   ],
   "source": [
    "X.shape"
   ]
  },
  {
   "cell_type": "code",
   "execution_count": 33,
   "metadata": {},
   "outputs": [
    {
     "name": "stdout",
     "output_type": "stream",
     "text": [
      "1.0\n",
      "0.9210526315789473\n",
      "0.918918918918919\n",
      "0.7567567567567568\n",
      "Wall time: 28.4 ms\n"
     ]
    }
   ],
   "source": [
    "%%time\n",
    "y_ans = []\n",
    "for train_index, test_index in KFold(n_splits=4).split(X):\n",
    "    mdl = MyKNeighborsClassifier(3)\n",
    "    X_train = X[train_index,:]\n",
    "    y_train = y[train_index]\n",
    "\n",
    "    X_test = X[test_index,:]\n",
    "    y_test = y[test_index]\n",
    "    \n",
    "    mdl.fit(X_train, y_train)\n",
    "    print(mdl.score(X_test, y_test))\n",
    "    y_ans += list(mdl.predict(X_test))\n",
    "    "
   ]
  },
  {
   "cell_type": "code",
   "execution_count": 34,
   "metadata": {},
   "outputs": [
    {
     "name": "stdout",
     "output_type": "stream",
     "text": [
      "1.0\n",
      "0.9210526315789473\n",
      "0.918918918918919\n",
      "0.7567567567567568\n",
      "Wall time: 50.7 ms\n"
     ]
    }
   ],
   "source": [
    "%%time\n",
    "y_ans = []\n",
    "for train_index, test_index in KFold(n_splits=4).split(X):\n",
    "    mdl = KNeighborsClassifier(3)\n",
    "    X_train = X[train_index,:]\n",
    "    y_train = y[train_index]\n",
    "\n",
    "    X_test = X[test_index,:]\n",
    "    y_test = y[test_index]\n",
    "    \n",
    "    mdl.fit(X_train, y_train)\n",
    "    print(mdl.score(X_test, y_test))\n",
    "    y_ans += list(mdl.predict(X_test))\n",
    "    "
   ]
  },
  {
   "cell_type": "markdown",
   "metadata": {},
   "source": [
    "### Видим одинаковые точности. Скорость работы также одинаковая"
   ]
  },
  {
   "cell_type": "markdown",
   "metadata": {},
   "source": [
    "# KNN-регрессия, датасет Бостон\n"
   ]
  },
  {
   "cell_type": "code",
   "execution_count": 36,
   "metadata": {},
   "outputs": [],
   "source": [
    "data = datasets.load_boston()\n",
    "X = data[\"data\"]\n",
    "X = StandardScaler().fit_transform(X)\n",
    "y = data[\"target\"]"
   ]
  },
  {
   "cell_type": "code",
   "execution_count": null,
   "metadata": {},
   "outputs": [],
   "source": []
  },
  {
   "cell_type": "code",
   "execution_count": 37,
   "metadata": {},
   "outputs": [
    {
     "name": "stdout",
     "output_type": "stream",
     "text": [
      "Wall time: 55.9 ms\n"
     ]
    }
   ],
   "source": [
    "%%time\n",
    "y_ans = []\n",
    "for train_index, test_index in KFold(n_splits=10).split(X):\n",
    "    mdl = MyKNeighborsRegressor(10)\n",
    "    X_train = X[train_index,:]\n",
    "    y_train = y[train_index]\n",
    "\n",
    "    X_test = X[test_index,:]\n",
    "    y_test = y[test_index]\n",
    "    \n",
    "    mdl.fit(X_train, y_train)\n",
    "    y_ans += list(mdl.predict(X_test))\n",
    "    "
   ]
  },
  {
   "cell_type": "code",
   "execution_count": 38,
   "metadata": {},
   "outputs": [
    {
     "data": {
      "text/plain": [
       "0.6544193040015016"
      ]
     },
     "execution_count": 38,
     "metadata": {},
     "output_type": "execute_result"
    }
   ],
   "source": [
    "r2_score(y, y_ans)"
   ]
  },
  {
   "cell_type": "code",
   "execution_count": 39,
   "metadata": {},
   "outputs": [
    {
     "name": "stdout",
     "output_type": "stream",
     "text": [
      "Wall time: 29.6 ms\n"
     ]
    }
   ],
   "source": [
    "%%time\n",
    "y_ans = []\n",
    "for train_index, test_index in KFold(n_splits=10).split(X):\n",
    "    mdl = KNeighborsRegressor(10, algorithm=\"brute\", metric=\"euclidean\")\n",
    "    X_train = X[train_index,:]\n",
    "    y_train = y[train_index]\n",
    "\n",
    "    X_test = X[test_index,:]\n",
    "    y_test = y[test_index]\n",
    "    \n",
    "    mdl.fit(X_train, y_train)\n",
    "    y_ans += list(mdl.predict(X_test))\n",
    "    "
   ]
  },
  {
   "cell_type": "code",
   "execution_count": 40,
   "metadata": {},
   "outputs": [
    {
     "data": {
      "text/plain": [
       "0.6544193040015016"
      ]
     },
     "execution_count": 40,
     "metadata": {},
     "output_type": "execute_result"
    }
   ],
   "source": [
    "r2_score(y, y_ans)"
   ]
  },
  {
   "cell_type": "markdown",
   "metadata": {},
   "source": [
    "### Видим одинаковые точности. Скорость работы также одинаковая"
   ]
  },
  {
   "cell_type": "code",
   "execution_count": null,
   "metadata": {},
   "outputs": [],
   "source": []
  }
 ],
 "metadata": {
  "kernelspec": {
   "display_name": "Python 3",
   "language": "python",
   "name": "python3"
  },
  "language_info": {
   "codemirror_mode": {
    "name": "ipython",
    "version": 3
   },
   "file_extension": ".py",
   "mimetype": "text/x-python",
   "name": "python",
   "nbconvert_exporter": "python",
   "pygments_lexer": "ipython3",
   "version": "3.8.3"
  }
 },
 "nbformat": 4,
 "nbformat_minor": 4
}
