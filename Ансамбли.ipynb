{
 "cells": [
  {
   "cell_type": "code",
   "execution_count": 251,
   "metadata": {},
   "outputs": [],
   "source": [
    "import pandas as pd\n",
    "import random as rnd\n",
    "import numpy as np\n",
    "import matplotlib.pyplot as plt\n",
    "import math\n",
    "from sklearn import datasets\n",
    "from sklearn.metrics import r2_score, f1_score, mean_absolute_error, mean_squared_error, roc_auc_score\n",
    "from sklearn.preprocessing import StandardScaler\n",
    "from sklearn.model_selection import KFold\n",
    "from sklearn.linear_model import Ridge\n",
    "from sklearn.linear_model import LogisticRegression, LinearRegression\n",
    "from sklearn.tree import DecisionTreeRegressor\n",
    "from sklearn.ensemble import RandomForestRegressor\n",
    "from sklearn.model_selection import train_test_split"
   ]
  },
  {
   "cell_type": "markdown",
   "metadata": {},
   "source": [
    "# Стекинг"
   ]
  },
  {
   "cell_type": "code",
   "execution_count": 252,
   "metadata": {},
   "outputs": [],
   "source": [
    "from sklearn.base import BaseEstimator, ClassifierMixin\n",
    "from sklearn.model_selection import train_test_split\n",
    "from sklearn.model_selection import cross_val_predict\n",
    "\n",
    "class MyStacking(BaseEstimator, ClassifierMixin):  \n",
    "    \"\"\"Стэкинг моделей scikit-learn\"\"\"\n",
    "\n",
    "    def __init__(self, models, ens_model):\n",
    "        \"\"\"\n",
    "        Инициализация инстанса\n",
    "        models - базовые модели для стекинга\n",
    "        ens_model - мета-модель\n",
    "        \"\"\"\n",
    "        self.models = models\n",
    "        self.ens_model = ens_model\n",
    "        self.n = len(models)\n",
    "        self.X_valid = None\n",
    "        \n",
    "    def fit(self, X, y=None, p=0.25, cv=3, err=0.001, random_state=None):\n",
    "        \"\"\"\n",
    "        Обучение стекинга\n",
    "        p - в каком отношении делить на обучение / тест\n",
    "            если p = 0 - используем всё обучение!\n",
    "        cv  (при p=0) - сколько фолдов использовать\n",
    "        err (при p=0) - величина случайной добавки к метапризнакам\n",
    "        random_state - инициализация генератора\n",
    "            \n",
    "        \"\"\"\n",
    "        if p > 0: # делим на обучение и тест\n",
    "            # разбиение на обучение моделей и метамодели\n",
    "            X_train, X_valid, y_train, y_valid = train_test_split(X, y, test_size=p, random_state=random_state)\n",
    "            \n",
    "            # заполнение матрицы для обучения метамодели\n",
    "            self.X_valid = np.zeros((X_valid.shape[0], self.n))\n",
    "            for i, mdl in enumerate(self.models):\n",
    "                mdl.fit(X_train, y_train)\n",
    "                self.X_valid[:, i] = mdl.predict(X_valid)\n",
    "                \n",
    "            # обучение метамодели\n",
    "            self.ens_model.fit(self.X_valid, y_valid)\n",
    "            \n",
    "        else: # используем всё обучение\n",
    "            \n",
    "            # для регуляризации - берём случайные добавки\n",
    "            self.X_valid = err*np.random.randn(X.shape[0], self.n)\n",
    "            \n",
    "            for i, mdl in enumerate(self.models):\n",
    "                # это oob-ответы алгоритмов\n",
    "                self.X_valid[:, i] += cross_val_predict(mdl, X, y, cv=cv, n_jobs=-1, method='predict')\n",
    "                # но сам алгоритм надо настроить\n",
    "                mdl.fit(X, y)\n",
    "            \n",
    "            # обучение метамодели\n",
    "            self.ens_model.fit(self.X_valid, y)  \n",
    "            \n",
    "        return self\n",
    "\n",
    "\n",
    "    def predict(self, X, y=None):\n",
    "        \"\"\"\n",
    "        Предсказание стекингом\n",
    "        \"\"\"\n",
    "        # заполение матрицы для мета-классификатора\n",
    "        X_meta = np.zeros((X.shape[0], self.n))\n",
    "        \n",
    "        for i, mdl in enumerate(self.models):\n",
    "            X_meta[:, i] = mdl.predict(X)\n",
    "        \n",
    "        return self.ens_model.predict(X_meta)\n"
   ]
  },
  {
   "cell_type": "markdown",
   "metadata": {},
   "source": [
    "# Решение задачи стекингом"
   ]
  },
  {
   "cell_type": "code",
   "execution_count": 500,
   "metadata": {},
   "outputs": [],
   "source": [
    "data = datasets.load_breast_cancer()\n",
    "X = data[\"data\"]\n",
    "X = StandardScaler().fit_transform(X)\n",
    "y = data[\"target\"]\n",
    "\n",
    "\n",
    "train_X, test_X, train_y, test_y = train_test_split(X, y, train_size=0.8, random_state=4)"
   ]
  },
  {
   "cell_type": "code",
   "execution_count": 501,
   "metadata": {},
   "outputs": [],
   "source": [
    "from sklearn.naive_bayes import GaussianNB\n",
    "from sklearn.linear_model import LogisticRegression\n",
    "from sklearn.neighbors import KNeighborsClassifier\n",
    "from sklearn.svm import SVC"
   ]
  },
  {
   "cell_type": "code",
   "execution_count": 502,
   "metadata": {},
   "outputs": [],
   "source": [
    "mdls = [\n",
    "    GaussianNB(var_smoothing=0.08),\n",
    "    SVC(kernel=\"rbf\", C=0.5),\n",
    "    KNeighborsClassifier(n_neighbors=9, metric=\"minkowski\", algorithm=\"kd_tree\")    \n",
    "]\n",
    "\n",
    "final_mdl = LogisticRegression(penalty=\"l2\", C=0.01)"
   ]
  },
  {
   "cell_type": "code",
   "execution_count": 503,
   "metadata": {},
   "outputs": [
    {
     "data": {
      "text/plain": [
       "MyStacking(ens_model=LogisticRegression(C=0.01, class_weight=None, dual=False,\n",
       "                                        fit_intercept=True, intercept_scaling=1,\n",
       "                                        l1_ratio=None, max_iter=100,\n",
       "                                        multi_class='auto', n_jobs=None,\n",
       "                                        penalty='l2', random_state=None,\n",
       "                                        solver='lbfgs', tol=0.0001, verbose=0,\n",
       "                                        warm_start=False),\n",
       "           models=[GaussianNB(priors=None, var_smoothing=0.08),\n",
       "                   SVC(C=0.5, break_ties=False, cache_size=200,\n",
       "                       class_weight=None, coef0=0.0,\n",
       "                       decision_function_shape='ovr', degree=3, gamma='scale',\n",
       "                       kernel='rbf', max_iter=-1, probability=False,\n",
       "                       random_state=None, shrinking=True, tol=0.001,\n",
       "                       verbose=False),\n",
       "                   KNeighborsClassifier(algorithm='kd_tree', leaf_size=30,\n",
       "                                        metric='minkowski', metric_params=None,\n",
       "                                        n_jobs=None, n_neighbors=9, p=2,\n",
       "                                        weights='uniform')])"
      ]
     },
     "execution_count": 503,
     "metadata": {},
     "output_type": "execute_result"
    }
   ],
   "source": [
    "stacking = MyStacking(mdls, final_mdl)\n",
    "stacking.fit(train_X, train_y, p=0.8, random_state=2021)"
   ]
  },
  {
   "cell_type": "code",
   "execution_count": null,
   "metadata": {},
   "outputs": [],
   "source": []
  },
  {
   "cell_type": "code",
   "execution_count": 504,
   "metadata": {},
   "outputs": [],
   "source": [
    "pred_y = stacking.predict(test_X)"
   ]
  },
  {
   "cell_type": "code",
   "execution_count": 505,
   "metadata": {},
   "outputs": [
    {
     "data": {
      "text/plain": [
       "0.9813664596273292"
      ]
     },
     "execution_count": 505,
     "metadata": {},
     "output_type": "execute_result"
    }
   ],
   "source": [
    "f1_score(test_y, pred_y)"
   ]
  },
  {
   "cell_type": "code",
   "execution_count": 506,
   "metadata": {},
   "outputs": [
    {
     "name": "stdout",
     "output_type": "stream",
     "text": [
      "0.9685534591194969\n",
      "0.9620253164556962\n",
      "0.975\n"
     ]
    }
   ],
   "source": [
    "for mdl in stacking.models:\n",
    "    print(f1_score(test_y, mdl.predict(test_X)))"
   ]
  },
  {
   "cell_type": "markdown",
   "metadata": {},
   "source": [
    "# Беггинг"
   ]
  },
  {
   "cell_type": "code",
   "execution_count": 507,
   "metadata": {},
   "outputs": [],
   "source": [
    "from sklearn.base import BaseEstimator, ClassifierMixin\n",
    "from sklearn.base import clone\n",
    "\n",
    "class MyBagging(BaseEstimator, ClassifierMixin):  \n",
    "    \"\"\"Беггинг моделей scikit-learn\"\"\"\n",
    "\n",
    "    def __init__(self, \n",
    "                 model=LinearRegression(), \n",
    "                 n_estimators=100, \n",
    "                 type_of_task=\"regression\", \n",
    "                 thershold=0.5, \n",
    "                 object_selection=1.0, \n",
    "                 feature_selection=1.0, \n",
    "                 random_state=None):\n",
    "        \"\"\"\n",
    "        Инициализация инстанса\n",
    "        model - базовая модель\n",
    "        n_estimators - число моделей в беггинге\n",
    "        type_of_task - тип решаемой задачи\n",
    "            regression - регрессия; прогноз - среднее\n",
    "            classification_binary_class - классификация; прогноз - класс {0, 1} среднее алгоритмов по порогу threshold\n",
    "            classification_binary_proba - классификация; прогноз - вероятность 0...1 среднее алгоритмов\n",
    "            \n",
    "        \"\"\"\n",
    "        self.model = model\n",
    "        self.models = []\n",
    "        self.n_estimators = n_estimators\n",
    "        if type_of_task not in [\"regression\", \"classification_binary_class\", \"classification_binary_proba\"]:\n",
    "            raise ValueError(f\"wrong type of task {type_of_task}\\n expected: regression, \" + \n",
    "                             \"classification_binary_class, \" +  \n",
    "                             \"classification_binary_proba\")\n",
    "        self.column_indexes_of_models = []\n",
    "        self.type_of_task = type_of_task\n",
    "        self.object_selection = object_selection\n",
    "        self.feature_selection = feature_selection\n",
    "        self.random_state = random_state\n",
    "        \n",
    "    def fit(self, X, y=None):\n",
    "        \"\"\"\n",
    "        Обучение стекинга\n",
    "        object_selection - доля объектов, используемая при обучении каждой модели\n",
    "        feature_selection - доля признаков, используемая при обучении каждой модели\n",
    "        random_state - инициализация генератора\n",
    "        \"\"\"\n",
    "        row_index = np.array(range(X.shape[0]))\n",
    "        col_index = np.array(range(X.shape[1]))\n",
    "        \n",
    "        for num_of_mdl in range(self.n_estimators):\n",
    "            \n",
    "            if not np.allclose(self.object_selection, 1.0):\n",
    "                np.random.shuffle(row_index)\n",
    "                current_row_index = row_index[:int(len(row_index) * self.object_selection)]\n",
    "                current_row_index = sorted(current_row_index)\n",
    "            else:\n",
    "                current_row_index = row_index\n",
    "            if not np.allclose(self.feature_selection, 1.0):\n",
    "                np.random.shuffle(col_index)\n",
    "                current_col_index = col_index[:int(len(col_index) * self.feature_selection)]\n",
    "                current_col_index = sorted(current_col_index)\n",
    "            else:\n",
    "                current_col_index = col_index\n",
    "            \n",
    "            self.column_indexes_of_models.append(current_col_index)\n",
    "            mdl = clone(self.model)\n",
    "            self.models.append(mdl.fit(X[current_row_index, :][:,current_col_index], y[current_row_index]))\n",
    "            \n",
    "        return self\n",
    "\n",
    "\n",
    "    def predict(self, X, y=None):\n",
    "        \"\"\"\n",
    "        Предсказание стекингом\n",
    "        \"\"\"\n",
    "        res = []\n",
    "        for i in range(len(self.models)):\n",
    "            mdl = self.models[i]\n",
    "            res.append(mdl.predict(X[:, self.column_indexes_of_models[i]]))\n",
    "            \n",
    "        if self.type_of_task == \"regression\":\n",
    "            return np.mean(res, axis=0)\n",
    "        elif self.type_of_task == \"classification_binary_class\":\n",
    "            return np.mean(res, axis=0) > self.thershold\n",
    "        elif self.type_of_task == \"classification_binary_proba\":\n",
    "            return np.mean(res, axis=0)\n",
    "        else:\n",
    "            raise ValueError(f\"wrong type of task {type_of_task}\\n expected: regression, \" +\n",
    "                             \"classification_binary_class, \" +\n",
    "                             \"classification_binary_proba\")"
   ]
  },
  {
   "cell_type": "markdown",
   "metadata": {},
   "source": [
    "# Решение задачи беггингом"
   ]
  },
  {
   "cell_type": "code",
   "execution_count": 541,
   "metadata": {},
   "outputs": [],
   "source": [
    "num_of_mdls = 1000"
   ]
  },
  {
   "cell_type": "code",
   "execution_count": 542,
   "metadata": {},
   "outputs": [],
   "source": [
    "data = datasets.load_boston()\n",
    "X = data[\"data\"]\n",
    "X = StandardScaler().fit_transform(X)\n",
    "y = data[\"target\"]\n",
    "train_X, test_X, train_y, test_y = train_test_split(X, y, train_size=0.7, random_state=4)"
   ]
  },
  {
   "cell_type": "code",
   "execution_count": 543,
   "metadata": {},
   "outputs": [
    {
     "data": {
      "text/plain": [
       "2.1095239247853943"
      ]
     },
     "execution_count": 543,
     "metadata": {},
     "output_type": "execute_result"
    }
   ],
   "source": [
    "bagging = MyBagging(\n",
    "    DecisionTreeRegressor(max_depth=10),                     \n",
    "    n_estimators=num_of_mdls,\n",
    "    object_selection=0.7,\n",
    "    feature_selection=0.9\n",
    ")\n",
    "bagging.fit(train_X, train_y)\n",
    "\n",
    "mean_absolute_error(test_y, bagging.predict(test_X))"
   ]
  },
  {
   "cell_type": "code",
   "execution_count": 544,
   "metadata": {},
   "outputs": [
    {
     "data": {
      "text/plain": [
       "2.123737248206677"
      ]
     },
     "execution_count": 544,
     "metadata": {},
     "output_type": "execute_result"
    }
   ],
   "source": [
    "from sklearn.ensemble import BaggingRegressor\n",
    "\n",
    "regr = BaggingRegressor(\n",
    "    base_estimator=DecisionTreeRegressor(max_depth=10),                    \n",
    "    n_estimators=num_of_mdls,\n",
    "    max_features=0.9, \n",
    "    max_samples=0.7\n",
    ").fit(train_X, train_y)\n",
    "\n",
    "mean_absolute_error(test_y, regr.predict(test_X))"
   ]
  },
  {
   "cell_type": "code",
   "execution_count": null,
   "metadata": {},
   "outputs": [],
   "source": []
  },
  {
   "cell_type": "code",
   "execution_count": null,
   "metadata": {},
   "outputs": [],
   "source": []
  },
  {
   "cell_type": "markdown",
   "metadata": {},
   "source": [
    "# Бустинг"
   ]
  },
  {
   "cell_type": "code",
   "execution_count": 545,
   "metadata": {},
   "outputs": [],
   "source": [
    "data = datasets.load_boston()\n",
    "X = data[\"data\"]\n",
    "X = StandardScaler().fit_transform(X)\n",
    "y = data[\"target\"]\n",
    "train_X, test_X, train_y, test_y = train_test_split(X, y, train_size=0.7, random_state=4)"
   ]
  },
  {
   "cell_type": "code",
   "execution_count": 546,
   "metadata": {},
   "outputs": [],
   "source": [
    "import xgboost as xgb"
   ]
  },
  {
   "cell_type": "code",
   "execution_count": null,
   "metadata": {},
   "outputs": [],
   "source": []
  },
  {
   "cell_type": "code",
   "execution_count": 633,
   "metadata": {},
   "outputs": [],
   "source": [
    "num_round = 1000\n",
    "param = {\n",
    "    'booster': 'dart',\n",
    "    'max_depth':4,\n",
    "    'eta':0.15,\n",
    "    'sampling_method': 'uniform',\n",
    "    'subsample': 0.8,\n",
    "    'objective':'reg:squarederror',\n",
    "    'sample_type': 'weighted',\n",
    "    'eval_metric': 'mae'\n",
    "}\n",
    "dtrain = xgb.DMatrix(data=train_X, label=train_y)\n",
    "dtest = xgb.DMatrix(data=test_X)\n",
    "bst = xgb.train(param, dtrain, num_round)"
   ]
  },
  {
   "cell_type": "code",
   "execution_count": 634,
   "metadata": {},
   "outputs": [
    {
     "data": {
      "text/plain": [
       "2.2075276117575795"
      ]
     },
     "execution_count": 634,
     "metadata": {},
     "output_type": "execute_result"
    }
   ],
   "source": [
    "mean_absolute_error(test_y, bst.predict(dtest))"
   ]
  },
  {
   "cell_type": "code",
   "execution_count": null,
   "metadata": {},
   "outputs": [],
   "source": []
  }
 ],
 "metadata": {
  "kernelspec": {
   "display_name": "Python 3 (ipykernel)",
   "language": "python",
   "name": "python3"
  },
  "language_info": {
   "codemirror_mode": {
    "name": "ipython",
    "version": 3
   },
   "file_extension": ".py",
   "mimetype": "text/x-python",
   "name": "python",
   "nbconvert_exporter": "python",
   "pygments_lexer": "ipython3",
   "version": "3.8.10"
  }
 },
 "nbformat": 4,
 "nbformat_minor": 4
}
